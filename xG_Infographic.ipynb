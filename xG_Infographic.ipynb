{
 "cells": [
  {
   "cell_type": "markdown",
   "id": "ff5e69de",
   "metadata": {},
   "source": [
    "## Improved Single Match xG Infographic"
   ]
  },
  {
   "cell_type": "code",
   "execution_count": 1,
   "id": "54a38493",
   "metadata": {},
   "outputs": [],
   "source": [
    "#import libraries\n",
    "import numpy as np\n",
    "import pandas as pd\n",
    "import matplotlib as mpl\n",
    "import matplotlib.pyplot as plt\n",
    "from PIL import Image\n",
    "from highlight_text import fig_text, ax_text\n",
    "\n",
    "import utils.probability_functions as pf\n",
    "from utils.cleaning import create_team_df, align_dfs, chance_quality\n",
    "from utils.metadata import *\n",
    "\n",
    "mpl.rcParams['font.family'] = 'Alegreya Sans'"
   ]
  },
  {
   "cell_type": "markdown",
   "id": "55a824eb",
   "metadata": {},
   "source": [
    "#### Load data"
   ]
  },
  {
   "cell_type": "code",
   "execution_count": 2,
   "id": "8288b207",
   "metadata": {},
   "outputs": [],
   "source": [
    "#load data\n",
    "comp = 'gw32'\n",
    "df = pd.read_csv(f'../../data/understat/liverpool/{comp}.csv')"
   ]
  },
  {
   "cell_type": "markdown",
   "id": "ad5abd7e",
   "metadata": {},
   "source": [
    "#### Data preperation"
   ]
  },
  {
   "cell_type": "code",
   "execution_count": 3,
   "id": "79fb759f",
   "metadata": {},
   "outputs": [],
   "source": [
    "# Create a df for each team (will only work as long as both teams took a shot)\n",
    "df_home, df_away = create_team_df(df)"
   ]
  },
  {
   "cell_type": "code",
   "execution_count": 4,
   "id": "1c1f845b",
   "metadata": {},
   "outputs": [],
   "source": [
    "home_team, away_team = df_home['team'][0], df_away['team'][0]"
   ]
  },
  {
   "cell_type": "markdown",
   "id": "2b4b7975",
   "metadata": {},
   "source": [
    "Align dataframes so both spans from minute 0 to minute of last shot"
   ]
  },
  {
   "cell_type": "code",
   "execution_count": 5,
   "id": "da4e25c9",
   "metadata": {},
   "outputs": [],
   "source": [
    "df_home_final, df_home_final1, df_away_final, df_away_final1 = align_dfs(df, df_home, df_away)"
   ]
  },
  {
   "cell_type": "code",
   "execution_count": 6,
   "id": "b7bd3296",
   "metadata": {},
   "outputs": [],
   "source": [
    "home_min_final = list(df_home_final['minute'].unique())\n",
    "away_min_final = list(df_away_final['minute'].unique())\n",
    "\n",
    "home_cum_xG_final = np.array(df_home_final1)\n",
    "away_cum_xG_final = np.array(df_away_final1)\n",
    "\n",
    "#home_min_final = list(home_min_final)\n",
    "#away_min_final = list(away_min_final)\n",
    "\n",
    "#home_cum_xG_final = list(home_cum_xG_final)\n",
    "#away_cum_xG_final = list(away_cum_xG_final)"
   ]
  },
  {
   "cell_type": "markdown",
   "id": "810739e8",
   "metadata": {},
   "source": [
    "#### Calculate scoreline probabilities"
   ]
  },
  {
   "cell_type": "code",
   "execution_count": 7,
   "id": "598a0ff6",
   "metadata": {},
   "outputs": [],
   "source": [
    "#find total xG\n",
    "home_total_xG = '{:.2f}'.format(round(home_cum_xG_final[-1], 2))\n",
    "away_total_xG = '{:.2f}'.format(round(away_cum_xG_final[-1], 2))\n",
    "\n",
    "# Get probability of all scorelines from 0-0 to 9-9\n",
    "home_goal_probs, away_goal_probs, scoreline_probs = pf.score_probability(float(home_total_xG),\n",
    "                                                                         float(away_total_xG),\n",
    "                                                                         num_goals=10)"
   ]
  },
  {
   "cell_type": "markdown",
   "id": "1e35027b",
   "metadata": {},
   "source": [
    "#### Prepare data for plotting"
   ]
  },
  {
   "cell_type": "code",
   "execution_count": 8,
   "id": "5191bbec",
   "metadata": {},
   "outputs": [],
   "source": [
    "# Create xs and ys for bar plots \n",
    "home_xs, home_ys = zip(*home_goal_probs)\n",
    "away_xs, away_ys = zip(*away_goal_probs)\n",
    "\n",
    "# Get percentages\n",
    "home_ys = [i*100 for i in home_ys]\n",
    "away_ys = [i*100 for i in away_ys]\n",
    "\n",
    "# Get number of goals for each team\n",
    "home_goals = len(df_home[df_home['result'] == 'Goal'])\n",
    "away_goals = len(df_away[df_away['result'] == 'Goal'])\n",
    "\n",
    "home_color = home_colors[home_team]\n",
    "away_color = home_colors[away_team]"
   ]
  },
  {
   "cell_type": "markdown",
   "id": "4905e4ae",
   "metadata": {},
   "source": [
    "#### Scoreline probabilities"
   ]
  },
  {
   "cell_type": "code",
   "execution_count": 9,
   "id": "bdab7fd8",
   "metadata": {},
   "outputs": [
    {
     "name": "stdout",
     "output_type": "stream",
     "text": [
      "[(2, 1), 0.08071790027155822]\n",
      "[(3, 1), 0.0704936329038275]\n",
      "[(2, 2), 0.06457432021724659]\n",
      "[(1, 1), 0.06161671776454825]\n"
     ]
    }
   ],
   "source": [
    "for i in range(4):\n",
    "    print(scoreline_probs[i])"
   ]
  },
  {
   "cell_type": "markdown",
   "id": "e2cce257",
   "metadata": {},
   "source": [
    "#### Calculate win, loss and draw probabilities"
   ]
  },
  {
   "cell_type": "code",
   "execution_count": 10,
   "id": "1bb5fe31",
   "metadata": {},
   "outputs": [],
   "source": [
    "home_prob, away_prob, draw_prob = pf.win_loss_draw_probs(scoreline_probs)\n",
    "\n",
    "home_prob = int(round(home_prob*100, 0))\n",
    "draw_prob = int(round(draw_prob*100, 0))\n",
    "away_prob = int(round(away_prob*100, 0))\n",
    "\n",
    "#concat to list\n",
    "home_away_draw_probs = pd.DataFrame({'outcomes': ['home', 'away', 'draw'], 'probs': [home_prob, away_prob, draw_prob]})"
   ]
  },
  {
   "cell_type": "markdown",
   "id": "3209418d",
   "metadata": {},
   "source": [
    "#### The improved match xG Infographic"
   ]
  },
  {
   "cell_type": "code",
   "execution_count": 11,
   "id": "c960eff2",
   "metadata": {},
   "outputs": [
    {
     "data": {
      "image/png": "[encoded data removed]",
      "text/plain": [
       "<Figure size 864x504 with 6 Axes>"
      ]
     },
     "metadata": {},
     "output_type": "display_data"
    }
   ],
   "source": [
    "fig, axd = plt.subplot_mosaic(\n",
    "    '''\n",
    "    BBC\n",
    "    BBD\n",
    "    .A.\n",
    "    ''',\n",
    "    constrained_layout=True, figsize=(12,7),\n",
    "    gridspec_kw={'height_ratios':[0.4, 0.4, 0.1]})\n",
    "                 #'width_ratios':[0.15, 0.5, 0.25]})\n",
    "\n",
    "\n",
    "#ax1, ax2, ax3, ax4 = axd.values()\n",
    "fig.set_facecolor(facecolor)\n",
    "\n",
    "# ------------- ax 1 -------------- #\n",
    "axd['A'].set_facecolor(facecolor)\n",
    "#set up our base layer\n",
    "axd['A'].tick_params(axis='x', bottom=False, colors=facecolor, labelsize=12)\n",
    "axd['A'].tick_params(axis='y', left=False, colors=facecolor, labelsize=12)\n",
    "\n",
    "axd['A'].spines[\"top\"].set_visible(False)\n",
    "axd['A'].spines[\"right\"].set_visible(False)\n",
    "axd['A'].spines[\"bottom\"].set_visible(False)\n",
    "axd['A'].spines[\"left\"].set_visible(False)\n",
    "\n",
    "# Plot bars\n",
    "home = axd['A'].barh(0.5, home_away_draw_probs['probs'][0], edgecolor=home_color, linewidth=4, fill=False, height=0.8)\n",
    "draw = axd['A'].barh(0.5, home_away_draw_probs['probs'][1],\n",
    "                     left=home_away_draw_probs['probs'][0], edgecolor=text_color, linewidth=4, fill=False, height=0.8)\n",
    "away = axd['A'].barh(0.5, home_away_draw_probs['probs'][2],\n",
    "                     left=home_away_draw_probs['probs'][0]+home_away_draw_probs['probs'][1],\n",
    "                     edgecolor=away_color, linewidth=4, fill=False, height=0.8)\n",
    "\n",
    "# Set texts\n",
    "# Home\n",
    "axd['A'].text(x=home_prob/2, y=0.4, s=f'{home_prob}%',\n",
    "              color='w', ha='center', size=16, fontweight='regular')\n",
    "#ax1.text(x=home_prob/2, y=-0.3, s=f'Sejr',\n",
    "#        color='w', ha='center', size=12)\n",
    "# Draw\n",
    "axd['A'].text(x=home_prob+draw_prob/2, y=0.4, s=f'{draw_prob}%',\n",
    "              color='w', ha='center', size=16, fontweight='regular')\n",
    "#ax1.text(x=home_prob+draw_prob/2, y=-0.3, s=f'Uafgjort',\n",
    "#        color='w', ha='center', size=12)\n",
    "# Away\n",
    "axd['A'].text(x=home_prob+draw_prob+away_prob/2, y=0.4, s=f'{away_prob}%',\n",
    "              color='w', ha='center', size=16, fontweight='regular')\n",
    "#ax1.text(x=home_prob+draw_prob+away_prob/2, y=-0.3, s=f'Sejr',\n",
    "#        color='w', ha='center', size=12)\n",
    "\n",
    "\n",
    "# ------------- ax 2 -------------- #\n",
    "axd['B'].set_facecolor(facecolor)\n",
    "#set up our base layer\n",
    "axd['B'].tick_params(axis='x', bottom=False, labelsize=12, colors='w')\n",
    "axd['B'].tick_params(axis='y', left=False, labelsize=12, colors='w')\n",
    "\n",
    "\n",
    "axd['B'].set_frame_on(False)\n",
    "\n",
    "#set grid\n",
    "axd['B'].grid(ls=(0, (5, 10)), lw=.5, color='#c7d5cc', axis='both', zorder=1)\n",
    "spines = ['top','bottom','left','right']\n",
    "for x in spines:\n",
    "    if x in spines:\n",
    "        axd['B'].spines[x].set_visible(False)\n",
    "axd['B'].set_xticks([0,15,30,45,60,75,90, 105])\n",
    "\n",
    "\n",
    "#plot the step graphs\n",
    "axd['B'].plot(home_min_final, home_cum_xG_final, drawstyle='steps-post',\n",
    "        color=home_color, label=f'{home_team}', linewidth=5)\n",
    "\n",
    "axd['B'].plot(away_min_final, away_cum_xG_final, drawstyle='steps-post',\n",
    "        color=away_color, label=f'{away_team}', linewidth=5)\n",
    "\n",
    "#plot home goals\n",
    "for i in range(len(df_home_final)):\n",
    "    if df_home_final['result'][i] == 'Goal':\n",
    "        axd['B'].scatter(df_home_final['minute'][i], df_home_final['cum_xG_x'][i], \n",
    "                    s=300, zorder=10, facecolor=home_color, label='Mål')\n",
    "        axd['B'].scatter(df_home_final['minute'][i], df_home_final['cum_xG_x'][i], \n",
    "            s=650, zorder=9, facecolor=home_color, alpha=0.3)\n",
    "for i in range(len(df_away_final)):\n",
    "    if df_away_final['result'][i] == 'OwnGoal':\n",
    "        axd['B'].scatter(df_away_final['minute'][i], df_home_final['cum_xG_x'][i], \n",
    "                    s=300, zorder=10, facecolor=home_color, label='Mål')\n",
    "        axd['B'].scatter(df_away_final['minute'][i], df_home_final['cum_xG_x'][i], \n",
    "                    s=650, zorder=9, facecolor=home_color, alpha=0.3)\n",
    "        \n",
    "#plot away goals\n",
    "for i in range(len(df_away_final)):\n",
    "    if df_away_final['result'][i] == 'Goal':\n",
    "        axd['B'].scatter(df_away_final['minute'][i], df_away_final['cum_xG_x'][i], \n",
    "                    s=300, zorder=10, facecolor=away_color, label='Mål')\n",
    "        axd['B'].scatter(df_away_final['minute'][i], df_away_final['cum_xG_x'][i], \n",
    "                    s=650, zorder=9, facecolor=away_color, alpha=0.3)\n",
    "for i in range(len(df_home_final)):\n",
    "    if df_home_final['result'][i] == 'OwnGoal':\n",
    "        axd['B'].scatter(df_home_final['minute'][i], df_away_final['cum_xG_x'][i], \n",
    "                    s=300, zorder=10, facecolor=away_color, label='Mål')\n",
    "        axd['B'].scatter(df_home_final['minute'][i], df_away_final['cum_xG_x'][i], \n",
    "                    s=650, zorder=9, facecolor=away_color, alpha=0.3)\n",
    "\n",
    "# Set x and y label\n",
    "axd['B'].set_xlabel('Minutter', color='white', fontsize=16)\n",
    "axd['B'].set_ylabel('Expected Goals (xG)', color='white', fontsize=16)\n",
    "\n",
    "\n",
    "\n",
    "# ------------- ax C -------------- #\n",
    "axd['C'].bar(home_xs, home_ys,\n",
    "        facecolor=facecolor, edgecolor=home_color, zorder=10, alpha=1)\n",
    "for i in home_xs:\n",
    "    if i == home_goals:\n",
    "        axd['C'].bar(i, home_ys[i],\n",
    "        color=home_color, zorder=10, alpha=1)\n",
    "\n",
    "#set up our base layer\n",
    "axd['C'].tick_params(axis='x', colors='w', labelsize=12)\n",
    "axd['C'].set_xticks(home_xs)\n",
    "axd['C'].tick_params(axis='y', colors='w', labelsize=12)\n",
    "\n",
    "# Set grid, ticks and frame\n",
    "#ax1.grid(axis='y', color='w', linestyle='--', zorder=1, alpha=0.5)\n",
    "axd['C'].tick_params(axis='both', which='both', left=False, bottom=False)\n",
    "axd['C'].set_frame_on(False)\n",
    "\n",
    "# Set labels and text\n",
    "axd['C'].set_xlabel('Antal Mål',\n",
    "               color='w', fontweight='bold', size=14)\n",
    "axd['C'].set_ylabel('Sandsynlighed i procent',\n",
    "               color='w', fontweight='bold', size=14)\n",
    "\n",
    "\n",
    "\n",
    "# ------------- ax D -------------- #\n",
    "axd['D'].set_facecolor(facecolor)\n",
    "\n",
    "axd['D'].bar(away_xs, away_ys,\n",
    "             facecolor=facecolor, edgecolor=away_color, zorder=10, alpha=1)\n",
    "for i in away_xs:\n",
    "    if i == away_goals:\n",
    "        axd['D'].bar(i, away_ys[i],\n",
    "        color=away_color, zorder=10, alpha=1)\n",
    "\n",
    "#set up our base layer\n",
    "axd['D'].tick_params(axis='x', colors='w', labelsize=12)\n",
    "axd['D'].set_xticks(away_xs)\n",
    "axd['D'].tick_params(axis='y', colors='w', labelsize=12)\n",
    "\n",
    "# Set grid, ticks and frame\n",
    "#ax1.grid(axis='y', color='w', linestyle='--', zorder=1, alpha=0.5)\n",
    "axd['D'].tick_params(axis='both', which='both', left=False, bottom=False)\n",
    "axd['D'].set_frame_on(False)\n",
    "\n",
    "# Set labels and text\n",
    "axd['D'].set_xlabel('Antal Mål',\n",
    "               color='w', fontweight='bold', size=14)\n",
    "axd['D'].set_ylabel('Sandsynlighed i procent',\n",
    "               color='w', fontweight='bold', size=14)\n",
    "\n",
    "\n",
    "\n",
    "# Add home and away team names\n",
    "fig_text(x=0.39, y=1, s = f'<{home_team}>', \n",
    "         fontsize=26, color='white', ha='right', highlight_colors=[home_color],\n",
    "         highlight_weights='bold')\n",
    "fig_text(x=0.61, y=1, s = f'<{away_team}>', \n",
    "         fontsize=26, color='white', ha='left', highlight_colors=[away_color],\n",
    "         highlight_weights='bold')\n",
    "\n",
    "# Add home and away goals\n",
    "fig_text(x=0.45, y=1.08, s = f'{home_goals}', \n",
    "         fontsize=48, color='white', ha='left', highlight_colors=['w'],\n",
    "         highlight_weights='bold', fontweight='bold')\n",
    "fig_text(x=0.55, y=1.08, s = f'{away_goals}', \n",
    "         fontsize=48, color='white', ha='right', highlight_colors=['w'],\n",
    "         highlight_weights='bold', fontweight='bold')\n",
    "\n",
    "# Add home and away xG totals\n",
    "fig_text(x=0.4, y=1, s = f'<{home_total_xG}>', \n",
    "         fontsize=36, color='white', ha='left', highlight_colors=['w'],\n",
    "         highlight_weights='bold', fontweight='bold')\n",
    "fig_text(x=0.60, y=1, s = f'<{away_total_xG}>', \n",
    "         fontsize=36, color='white', ha='right', highlight_colors=['w'],\n",
    "         highlight_weights='bold', fontweight='bold')\n",
    "\n",
    "# Add text between xG and goals\n",
    "fig_text(x=0.5, y=1.08, s = '-', \n",
    "         fontsize=36, color='white', ha='center', highlight_colors=['w'],\n",
    "         highlight_weights='bold', fontweight='bold')\n",
    "fig_text(x=0.5, y=1, s = 'xG', \n",
    "         fontsize=26, color='white', ha='center', highlight_colors=['w'],\n",
    "         highlight_weights='bold', fontweight='bold')\n",
    "\n",
    "# Add logos\n",
    "# read the image (convert to PIL Image)\n",
    "home_logo = Image.open(f'team_logos/{home_team}.png')\n",
    "ax_image_home = fig.add_axes((0.31, 1.06, 0.1, 0.1))\n",
    "ax_image_home.axis('off')  # axis off so no labels/ ticks\n",
    "ax_image_home.imshow(home_logo)\n",
    "\n",
    "away_logo = Image.open(f'team_logos/{away_team}.png')\n",
    "ax_image_away = fig.add_axes((0.60, 1.06, 0.1, 0.1))\n",
    "ax_image_away.axis('off')  # axis off so no labels/ ticks\n",
    "ax_image_away.imshow(away_logo)\n",
    "\n",
    "\n",
    "fig_text(x=0.05, y=0.06,\n",
    "         s=f'Sandsynlighed for <{home_team} sejr>, <{away_team} sejr> og <uagjort>\\nbaseret på simulation af skud', \n",
    "         fontsize=12, color='white', ha='left', highlight_colors=[home_color, away_color, text_color],\n",
    "         highlight_weights='bold')\n",
    "\n",
    "fig_text(x=0.85, y=0.08,\n",
    "         s=f'<Data | understat.com>', \n",
    "         fontsize=12, color='white', ha='left', highlight_colors=[text_color],\n",
    "         highlight_weights='regular')\n",
    "fig_text(x=0.85, y=0.05,\n",
    "         s=f'<twitter.com/C_Roensholt>', \n",
    "         fontsize=12, color='white', ha='left', highlight_colors=[text_color],\n",
    "         highlight_weights='regular')\n",
    "\n",
    "#plt.savefig(f'output/{home_team}_vs_{away_team}_xG_infographic_{comp}.png',\n",
    "#            dpi=600, bbox_inches='tight')\n",
    "\n",
    "plt.show()"
   ]
  },
  {
   "cell_type": "code",
   "execution_count": null,
   "id": "e38752c3",
   "metadata": {},
   "outputs": [],
   "source": []
  }
 ],
 "metadata": {
  "kernelspec": {
   "display_name": "Python 3",
   "language": "python",
   "name": "python3"
  },
  "language_info": {
   "codemirror_mode": {
    "name": "ipython",
    "version": 3
   },
   "file_extension": ".py",
   "mimetype": "text/x-python",
   "name": "python",
   "nbconvert_exporter": "python",
   "pygments_lexer": "ipython3",
   "version": "3.8.8"
  }
 },
 "nbformat": 4,
 "nbformat_minor": 5
}
