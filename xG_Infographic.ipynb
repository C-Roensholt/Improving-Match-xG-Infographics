{
 "cells": [
  {
   "cell_type": "markdown",
   "id": "3016d798",
   "metadata": {},
   "source": [
    "## Improved Single Match xG Infographic"
   ]
  },
  {
   "cell_type": "code",
   "execution_count": 9,
   "id": "67102970",
   "metadata": {},
   "outputs": [],
   "source": [
    "#import libraries\n",
    "import numpy as np\n",
    "import pandas as pd\n",
    "import matplotlib as mpl\n",
    "import matplotlib.pyplot as plt\n",
    "from highlight_text import ax_text, fig_text\n",
    "\n",
    "import probability_functions as pf"
   ]
  },
  {
   "cell_type": "markdown",
   "id": "01e39699",
   "metadata": {},
   "source": [
    "#### Load data"
   ]
  },
  {
   "cell_type": "code",
   "execution_count": 10,
   "id": "35295dd7",
   "metadata": {},
   "outputs": [],
   "source": [
    "#load data\n",
    "comp = 'gw32'\n",
    "df = pd.read_csv(f'../../data/understat/liverpool/{comp}.csv')"
   ]
  },
  {
   "cell_type": "markdown",
   "id": "13a5a3c5",
   "metadata": {},
   "source": [
    "#### Data preperation"
   ]
  },
  {
   "cell_type": "code",
   "execution_count": 11,
   "id": "a34af40e",
   "metadata": {},
   "outputs": [],
   "source": [
    "#find team names from dataframe (will only work as long as both teams took a shot)\n",
    "home_team = df['team'].iloc[0]\n",
    "away_team = df['team'].iloc[-1]\n",
    "\n",
    "#create dataframe for each team\n",
    "df_home = df[df['team'] == home_team].reset_index(drop=True)\n",
    "df_away = df[df['team'] == away_team].reset_index(drop=True)\n",
    "\n",
    "#create cumulative xG column\n",
    "df_home['cum_xG'] = df_home['xG'].cumsum()\n",
    "df_away['cum_xG'] = df_away['xG'].cumsum()"
   ]
  },
  {
   "cell_type": "code",
   "execution_count": 12,
   "id": "42ce5039",
   "metadata": {},
   "outputs": [],
   "source": [
    "# Convert to lists\n",
    "#home_min = list(df_home['minute'])\n",
    "#away_min = list(df_away['minute'])\n",
    "\n",
    "#home_cum_xG = list(df_home['cum_xG'])\n",
    "#away_cum_xG = list(df_away['cum_xG'])"
   ]
  },
  {
   "cell_type": "markdown",
   "id": "4b72972c",
   "metadata": {},
   "source": [
    "Create dataframe with minutes"
   ]
  },
  {
   "cell_type": "code",
   "execution_count": 13,
   "id": "a97fae4e",
   "metadata": {},
   "outputs": [],
   "source": [
    "df_minutes = pd.DataFrame({'minute': range(0, df['minute'].max()+1, 1)})"
   ]
  },
  {
   "cell_type": "code",
   "execution_count": 14,
   "id": "87280e63",
   "metadata": {},
   "outputs": [],
   "source": [
    "#merge with dataframes\n",
    "df_home_final = df_minutes.merge(df_home,\n",
    "                                 on='minute', how='left')[['minute', 'cum_xG']]\n",
    "df_home_final.fillna(method='ffill', inplace=True)\n",
    "df_home_final.fillna(0, inplace=True)\n",
    "df_home_final = df_home_final.merge(df_home, on='minute', how='left')[['minute', 'cum_xG_x', 'result']]\n",
    "\n",
    "df_away_final = df_minutes.merge(df_away,\n",
    "                                 on='minute', how='left')[['minute', 'cum_xG']]\n",
    "df_away_final.fillna(method='ffill', inplace=True)\n",
    "df_away_final.fillna(0, inplace=True)\n",
    "df_away_final = df_away_final.merge(df_away, on='minute', how='left')[['minute', 'cum_xG_x', 'result']]"
   ]
  },
  {
   "cell_type": "code",
   "execution_count": 15,
   "id": "d44ccdff",
   "metadata": {},
   "outputs": [],
   "source": [
    "#group by minutes to make dataframes the same length\n",
    "df_home_final1 = df_home_final.groupby(['minute'])[['cum_xG_x']].max().reset_index()\n",
    "df_away_final1 = df_away_final.groupby(['minute'])[['cum_xG_x']].max().reset_index()\n",
    "\n",
    "df_home_final1 = df_home_final1.fillna(method='ffill')\n",
    "df_away_final1 = df_away_final1.fillna(method='ffill')"
   ]
  },
  {
   "cell_type": "code",
   "execution_count": 16,
   "id": "75a0d23f",
   "metadata": {},
   "outputs": [],
   "source": [
    "home_min_final = np.array(df_home_final1['minute'])\n",
    "away_min_final = np.array(df_away_final1['minute'])\n",
    "\n",
    "home_cum_xG_final = np.array(df_home_final1['cum_xG_x'])\n",
    "away_cum_xG_final = np.array(df_away_final1['cum_xG_x'])\n",
    "\n",
    "home_min_final = list(home_min_final)\n",
    "away_min_final = list(away_min_final)\n",
    "\n",
    "home_cum_xG_final = list(home_cum_xG_final)\n",
    "away_cum_xG_final = list(away_cum_xG_final)"
   ]
  },
  {
   "cell_type": "markdown",
   "id": "4a642f37",
   "metadata": {},
   "source": [
    "#### Calculate scoreline probabilities"
   ]
  },
  {
   "cell_type": "code",
   "execution_count": 19,
   "id": "ef1c25a8",
   "metadata": {},
   "outputs": [],
   "source": [
    "#find total xG\n",
    "home_total_xG = round(home_cum_xG[-1], 2)\n",
    "away_total_xG = round(away_cum_xG[-1], 2)\n",
    "\n",
    "# Get probability of all scorelines from 0-0 to 9-9\n",
    "scoreline_probs = pf.score_probability(home_total_xG, away_total_xG, num_goals=10)"
   ]
  },
  {
   "cell_type": "markdown",
   "id": "92a04971",
   "metadata": {},
   "source": [
    "Visualize scoreline probabilities"
   ]
  },
  {
   "cell_type": "code",
   "execution_count": null,
   "id": "f550f614",
   "metadata": {},
   "outputs": [],
   "source": []
  },
  {
   "cell_type": "markdown",
   "id": "b16f89b4",
   "metadata": {},
   "source": [
    "#### Calculate win, loss and draw probabilities"
   ]
  },
  {
   "cell_type": "code",
   "execution_count": 30,
   "id": "b6efdbe7",
   "metadata": {},
   "outputs": [],
   "source": [
    "home_prob, away_prob, draw_prob = pf.win_loss_draw_probs(scoreline_probs)\n",
    "\n",
    "# Concat into list\n",
    "home_away_draw_probs = pd.DataFrame({'outcomes': ['home', 'away', 'draw'], 'probs': [home_prob, away_prob, draw_prob]})"
   ]
  },
  {
   "cell_type": "code",
   "execution_count": 31,
   "id": "265bb6a1",
   "metadata": {},
   "outputs": [
    {
     "data": {
      "text/html": [
       "<div>\n",
       "<style scoped>\n",
       "    .dataframe tbody tr th:only-of-type {\n",
       "        vertical-align: middle;\n",
       "    }\n",
       "\n",
       "    .dataframe tbody tr th {\n",
       "        vertical-align: top;\n",
       "    }\n",
       "\n",
       "    .dataframe thead th {\n",
       "        text-align: right;\n",
       "    }\n",
       "</style>\n",
       "<table border=\"1\" class=\"dataframe\">\n",
       "  <thead>\n",
       "    <tr style=\"text-align: right;\">\n",
       "      <th></th>\n",
       "      <th>outcomes</th>\n",
       "      <th>probs</th>\n",
       "    </tr>\n",
       "  </thead>\n",
       "  <tbody>\n",
       "    <tr>\n",
       "      <th>0</th>\n",
       "      <td>home</td>\n",
       "      <td>0.595328</td>\n",
       "    </tr>\n",
       "    <tr>\n",
       "      <th>1</th>\n",
       "      <td>away</td>\n",
       "      <td>0.223930</td>\n",
       "    </tr>\n",
       "    <tr>\n",
       "      <th>2</th>\n",
       "      <td>draw</td>\n",
       "      <td>0.180337</td>\n",
       "    </tr>\n",
       "  </tbody>\n",
       "</table>\n",
       "</div>"
      ],
      "text/plain": [
       "  outcomes     probs\n",
       "0     home  0.595328\n",
       "1     away  0.223930\n",
       "2     draw  0.180337"
      ]
     },
     "execution_count": 31,
     "metadata": {},
     "output_type": "execute_result"
    }
   ],
   "source": [
    "home_away_draw_probs"
   ]
  },
  {
   "cell_type": "markdown",
   "id": "bb414258",
   "metadata": {},
   "source": [
    "Visualize win, loss, draw probabilities"
   ]
  },
  {
   "cell_type": "code",
   "execution_count": 45,
   "id": "dbc39a86",
   "metadata": {},
   "outputs": [
    {
     "data": {
      "text/plain": [
       "<AxesSubplot:>"
      ]
     },
     "execution_count": 45,
     "metadata": {},
     "output_type": "execute_result"
    },
    {
     "data": {
      "image/png": "[encoded data removed]",
      "text/plain": [
       "<Figure size 432x288 with 1 Axes>"
      ]
     },
     "metadata": {
      "needs_background": "light"
     },
     "output_type": "display_data"
    }
   ],
   "source": [
    "#fig, ax = plt.subplots(figsize=(12,8))\n",
    "\n",
    "home_away_draw_probs['probs'].T.plot.bar(stacked=True)"
   ]
  },
  {
   "cell_type": "markdown",
   "id": "73bc7b25",
   "metadata": {},
   "source": [
    "#### Regular xG Race Chart"
   ]
  },
  {
   "cell_type": "code",
   "execution_count": 15,
   "id": "5aa39113",
   "metadata": {},
   "outputs": [
    {
     "data": {
      "image/png": "[encoded data removed]",
      "text/plain": [
       "<Figure size 1008x576 with 1 Axes>"
      ]
     },
     "metadata": {},
     "output_type": "display_data"
    }
   ],
   "source": [
    "mpl.rcParams['font.family'] = 'Alegreya Sans'\n",
    "\n",
    "lightblue = '#1d91dc'\n",
    "red = '#e80942'\n",
    "yellow = '#f7a119'\n",
    "green = '#16C79A'\n",
    "turq = '#00e8dc'\n",
    "text_color= '#CECECD'\n",
    "\n",
    "facecolor = '#181818'\n",
    "home_color = lightblue\n",
    "away_color = red\n",
    "\n",
    "fig, ax = plt.subplots(figsize = (14,8))\n",
    "fig.set_facecolor(facecolor)\n",
    "ax.set_facecolor(facecolor)\n",
    "\n",
    "#set up our base layer\n",
    "ax.tick_params(axis='x', colors='white', labelsize=12)\n",
    "ax.tick_params(axis='y', colors='white', labelsize=12)\n",
    "\n",
    "#set grid\n",
    "ax.grid(ls='dotted', lw=.5, color='#c7d5cc', axis='x', zorder=1)\n",
    "spines = ['top','bottom','left','right']\n",
    "for x in spines:\n",
    "    if x in spines:\n",
    "        ax.spines[x].set_visible(False)\n",
    "plt.xticks([0,15,30,45,60,75,90, 105])\n",
    "\n",
    "\n",
    "#plot the step graphs\n",
    "ax.plot(home_min_final, home_cum_xG_final, drawstyle='steps-post',\n",
    "        color=home_color, label=f'{home_team}', linewidth=4)\n",
    "ax.plot(away_min_final, away_cum_xG_final, drawstyle='steps-post',\n",
    "        color=away_color, label=f'{away_team}', linewidth=4)\n",
    "\n",
    "#fill below line plot\n",
    "#minutes = list(sorted(np.concatenate([home_min, away_min])))\n",
    "home_where = (np.array(home_cum_xG_final) > np.array(away_cum_xG_final))\n",
    "ax.fill_between(home_min_final, home_cum_xG_final, away_cum_xG_final, step='post', \n",
    "                where=home_where, #interpolate=True,\n",
    "                color=home_color, alpha=0.3, hatch=3*'\\\\')\n",
    "away_where = (np.array(home_cum_xG_final) < np.array(away_cum_xG_final))\n",
    "ax.fill_between(home_min_final, home_cum_xG_final, away_cum_xG_final, step='post', \n",
    "                where=away_where, #interpolate=True,\n",
    "                color=away_color, alpha=0.3, hatch=3*'\\\\')\n",
    "\n",
    "\n",
    "#plot home goals\n",
    "for i in range(len(df_home_final)):\n",
    "    if df_home_final['result'][i] == 'Goal':\n",
    "        plt.scatter(df_home_final['minute'][i], df_home_final['cum_xG_x'][i], \n",
    "                    s=300, zorder=10, facecolor=home_color, edgecolor='white', label='Mål')\n",
    "for i in range(len(df_away_final)):\n",
    "    if df_away_final['result'][i] == 'OwnGoal':\n",
    "        plt.scatter(df_away_final['minute'][i], df_home_final1['cum_xG_x'][i], \n",
    "                    s=300, zorder=10, facecolor=home_color, edgecolor='white', label='Mål')\n",
    "\n",
    "#plot away goals\n",
    "for i in range(len(df_away_final)):\n",
    "    if df_away_final['result'][i] == 'Goal':\n",
    "        plt.scatter(df_away_final['minute'][i], df_away_final['cum_xG_x'][i], \n",
    "                    s=300, zorder=10, facecolor=away_color, edgecolor='white', label='Mål')\n",
    "for i in range(len(df_home_final)):\n",
    "    if df_home_final['result'][i] == 'OwnGoal':\n",
    "        plt.scatter(df_home_final['minute'][i], df_away_final1['cum_xG_x'][i], \n",
    "                    s=300, zorder=10, facecolor=away_color, edgecolor='white', label='Mål')\n",
    "\n",
    "#set title and text\n",
    "home_goals = len(df_home[df_home['result'] == 'Goal'])\n",
    "home_goals += len(df_away[df_away['result'] == 'OwnGoal'])\n",
    "away_goals = len(df_away[(df_away['result'] == 'Goal')])\n",
    "away_goals += len(df_home[df_home['result'] == 'OwnGoal'])\n",
    "\n",
    "\n",
    "#fig.suptitle(f'{home_team}  {home_goals}:{away_goals}  {away_team}', \n",
    "#            fontsize=28, color='white')\n",
    "\n",
    "fig_text(x=0.5, y=0.95, s = f'<{home_team}>  <{home_goals}>:<{away_goals}>  <{away_team}>', \n",
    "         fontsize=42, color='white', ha='center', highlight_colors=[home_color, 'w', 'w', away_color],\n",
    "         highlight_weights='bold')\n",
    "fig_text(x=0.5, y=0.9, s = f'Premier League 2020/2021', \n",
    "         fontsize=20, color='white', ha='center', highlight_colors=['w'], highlight_weights='bold')\n",
    "\n",
    "\n",
    "#add home team total xG\n",
    "ax.text(home_min_final[-1], home_cum_xG_final[-1]+0.1, s='{:.2f}'.format(home_total_xG),\n",
    "        color=home_color, fontsize=24, fontweight='bold', ha='right')\n",
    "ax.text(away_min_final[-1], away_cum_xG_final[-1]-0.25, s='{:.2f}'.format(away_total_xG),\n",
    "        color=away_color, fontsize=24, fontweight='bold', ha='right')\n",
    "\n",
    "ax.text(90, -0.3, s='Data | understat.com', ha='right',\n",
    "        fontsize=10, fontstyle='normal', color='white')\n",
    "ax.text(90, -0.37, s='twitter.com/C_Roensholt', fontsize=10, fontstyle='normal', color='white', ha='right')\n",
    "\n",
    "\n",
    "\n",
    "ax.set_xlabel('Minutter', color='white', fontsize=16)\n",
    "ax.set_ylabel('Expected Goals (xG)', color='white', fontsize=16)\n",
    "\n",
    "#plt.savefig(f'output/{home_team}_vs_{away_team}_xG_Infographic_{comp}.png', dpi=600, \n",
    "#            bbox_inches='tight', facecolor=facecolor, edgecolor='none')\n",
    "\n",
    "plt.show()"
   ]
  },
  {
   "cell_type": "markdown",
   "id": "80d26ad6",
   "metadata": {},
   "source": [
    "#### The improved match xG Infographic"
   ]
  },
  {
   "cell_type": "code",
   "execution_count": null,
   "id": "90861f3e",
   "metadata": {},
   "outputs": [],
   "source": []
  }
 ],
 "metadata": {
  "kernelspec": {
   "display_name": "Python 3",
   "language": "python",
   "name": "python3"
  },
  "language_info": {
   "codemirror_mode": {
    "name": "ipython",
    "version": 3
   },
   "file_extension": ".py",
   "mimetype": "text/x-python",
   "name": "python",
   "nbconvert_exporter": "python",
   "pygments_lexer": "ipython3",
   "version": "3.8.8"
  }
 },
 "nbformat": 4,
 "nbformat_minor": 5
}
