{
 "cells": [
  {
   "cell_type": "markdown",
   "id": "682bfac3",
   "metadata": {},
   "source": [
    "## Improved Single Match xG Infographic"
   ]
  },
  {
   "cell_type": "code",
   "execution_count": 1,
   "id": "47384e62",
   "metadata": {},
   "outputs": [],
   "source": [
    "#import libraries\n",
    "import numpy as np\n",
    "import pandas as pd\n",
    "import matplotlib as mpl\n",
    "import matplotlib.pyplot as plt\n",
    "from highlight_text import ax_text, fig_text\n",
    "\n",
    "import probability_functions as pf"
   ]
  },
  {
   "cell_type": "markdown",
   "id": "f944d8ba",
   "metadata": {},
   "source": [
    "#### Load data"
   ]
  },
  {
   "cell_type": "code",
   "execution_count": 2,
   "id": "30420860",
   "metadata": {},
   "outputs": [],
   "source": [
    "#load data\n",
    "comp = 'gw32'\n",
    "df = pd.read_csv(f'../../data/understat/liverpool/{comp}.csv')"
   ]
  },
  {
   "cell_type": "markdown",
   "id": "e2b89609",
   "metadata": {},
   "source": [
    "#### Data preperation"
   ]
  },
  {
   "cell_type": "code",
   "execution_count": 3,
   "id": "7505a438",
   "metadata": {},
   "outputs": [],
   "source": [
    "#find team names from dataframe (will only work as long as both teams took a shot)\n",
    "home_team = df['team'].iloc[0]\n",
    "away_team = df['team'].iloc[-1]\n",
    "\n",
    "#create dataframe for each team\n",
    "df_home = df[df['team'] == home_team].reset_index(drop=True)\n",
    "df_away = df[df['team'] == away_team].reset_index(drop=True)\n",
    "\n",
    "#create cumulative xG column\n",
    "df_home['cum_xG'] = df_home['xG'].cumsum()\n",
    "df_away['cum_xG'] = df_away['xG'].cumsum()"
   ]
  },
  {
   "cell_type": "code",
   "execution_count": 4,
   "id": "71d72945",
   "metadata": {},
   "outputs": [],
   "source": [
    "# Convert to lists\n",
    "#home_min = list(df_home['minute'])\n",
    "#away_min = list(df_away['minute'])\n",
    "\n",
    "#home_cum_xG = list(df_home['cum_xG'])\n",
    "#away_cum_xG = list(df_away['cum_xG'])"
   ]
  },
  {
   "cell_type": "markdown",
   "id": "1ddccdc1",
   "metadata": {},
   "source": [
    "Create dataframe with minutes"
   ]
  },
  {
   "cell_type": "code",
   "execution_count": 5,
   "id": "5b5a84a2",
   "metadata": {},
   "outputs": [],
   "source": [
    "df_minutes = pd.DataFrame({'minute': range(0, df['minute'].max()+1, 1)})"
   ]
  },
  {
   "cell_type": "code",
   "execution_count": 6,
   "id": "1407a7d7",
   "metadata": {},
   "outputs": [],
   "source": [
    "#merge with dataframes\n",
    "df_home_final = df_minutes.merge(df_home,\n",
    "                                 on='minute', how='left')[['minute', 'cum_xG']]\n",
    "df_home_final.fillna(method='ffill', inplace=True)\n",
    "df_home_final.fillna(0, inplace=True)\n",
    "df_home_final = df_home_final.merge(df_home, on='minute', how='left')[['minute', 'cum_xG_x', 'result']]\n",
    "\n",
    "df_away_final = df_minutes.merge(df_away,\n",
    "                                 on='minute', how='left')[['minute', 'cum_xG']]\n",
    "df_away_final.fillna(method='ffill', inplace=True)\n",
    "df_away_final.fillna(0, inplace=True)\n",
    "df_away_final = df_away_final.merge(df_away, on='minute', how='left')[['minute', 'cum_xG_x', 'result']]"
   ]
  },
  {
   "cell_type": "code",
   "execution_count": 7,
   "id": "b5379c26",
   "metadata": {},
   "outputs": [],
   "source": [
    "#group by minutes to make dataframes the same length\n",
    "df_home_final1 = df_home_final.groupby(['minute'])[['cum_xG_x']].max().reset_index()\n",
    "df_away_final1 = df_away_final.groupby(['minute'])[['cum_xG_x']].max().reset_index()\n",
    "\n",
    "df_home_final1 = df_home_final1.fillna(method='ffill')\n",
    "df_away_final1 = df_away_final1.fillna(method='ffill')"
   ]
  },
  {
   "cell_type": "code",
   "execution_count": 8,
   "id": "71b8771b",
   "metadata": {},
   "outputs": [],
   "source": [
    "home_min_final = np.array(df_home_final1['minute'])\n",
    "away_min_final = np.array(df_away_final1['minute'])\n",
    "\n",
    "home_cum_xG_final = np.array(df_home_final1['cum_xG_x'])\n",
    "away_cum_xG_final = np.array(df_away_final1['cum_xG_x'])\n",
    "\n",
    "home_min_final = list(home_min_final)\n",
    "away_min_final = list(away_min_final)\n",
    "\n",
    "home_cum_xG_final = list(home_cum_xG_final)\n",
    "away_cum_xG_final = list(away_cum_xG_final)"
   ]
  },
  {
   "cell_type": "markdown",
   "id": "21ddf076",
   "metadata": {},
   "source": [
    "#### Calculate scoreline probabilities"
   ]
  },
  {
   "cell_type": "code",
   "execution_count": 57,
   "id": "0d8c50a7",
   "metadata": {},
   "outputs": [],
   "source": [
    "#find total xG\n",
    "home_total_xG = round(home_cum_xG_final[-1], 2)\n",
    "away_total_xG = round(away_cum_xG_final[-1], 2)\n",
    "\n",
    "# Get probability of all scorelines from 0-0 to 9-9\n",
    "home_goal_probs, away_goal_probs, scoreline_probs = pf.score_probability(home_total_xG, away_total_xG, num_goals=10)"
   ]
  },
  {
   "cell_type": "markdown",
   "id": "98adf090",
   "metadata": {},
   "source": [
    "Visualize goal probabilities"
   ]
  },
  {
   "cell_type": "code",
   "execution_count": 62,
   "id": "5ebc460f",
   "metadata": {},
   "outputs": [],
   "source": [
    "# Create xs and ys for bar plots \n",
    "home_xs, home_ys = zip(*home_goal_probs)\n",
    "away_xs, away_ys = zip(*away_goal_probs)\n",
    "\n",
    "# Get number of goals for each team\n",
    "home_goals = len(df_home[df_home['result'] == 'Goal'])\n",
    "away_goals = len(df_away[df_away['result'] == 'Goal'])"
   ]
  },
  {
   "cell_type": "code",
   "execution_count": 93,
   "id": "1f46fa7a",
   "metadata": {},
   "outputs": [
    {
     "data": {
      "image/png": "[encoded data removed]",
      "text/plain": [
       "<Figure size 432x648 with 2 Axes>"
      ]
     },
     "metadata": {},
     "output_type": "display_data"
    }
   ],
   "source": [
    "lightblue = '#1d91dc'\n",
    "red = '#e80942'\n",
    "yellow = '#f7a119'\n",
    "green = '#16C79A'\n",
    "turq = '#00e8dc'\n",
    "text_color= '#CECECD'\n",
    "\n",
    "facecolor = '#181818'\n",
    "home_color = lightblue\n",
    "away_color = red\n",
    "\n",
    "fig, (ax1, ax2) = plt.subplots(nrows=2, ncols=1, figsize = (6,9))\n",
    "fig.set_facecolor(facecolor)\n",
    "ax1.set_facecolor(facecolor)\n",
    "ax2.set_facecolor(facecolor)\n",
    "\n",
    "\n",
    "# ---------- ax1 -------------- #\n",
    "ax1.bar(home_xs, home_ys,\n",
    "        color=home_color, zorder=10, hatch=3*'//', alpha=0.3)\n",
    "for i in home_xs:\n",
    "    if i == home_goals:\n",
    "        ax1.bar(i, home_ys[i],\n",
    "        color=home_color, zorder=10, hatch=3*'//', alpha=1)\n",
    "#set up our base layer\n",
    "ax1.tick_params(axis='x', colors='w', labelsize=12)\n",
    "ax1.set_xticks(home_xs)\n",
    "ax1.tick_params(axis='y', colors='w', labelsize=12)\n",
    "\n",
    "# Set grid, ticks and frame\n",
    "#ax1.grid(axis='y', color='w', linestyle='--', zorder=1, alpha=0.5)\n",
    "ax1.tick_params(axis='both', which='both', left=False, bottom=False)\n",
    "ax1.set_frame_on(False)\n",
    "\n",
    "# Set labels and text\n",
    "ax1.set_xlabel('Mål',\n",
    "               color='w', fontweight='bold', size=14)\n",
    "ax1.set_ylabel('Sandsynlighed',\n",
    "               color='w', fontweight='bold', size=14)\n",
    "\n",
    "\n",
    "# ---------- ax2 -------------- #\n",
    "ax2.bar(away_xs, away_ys,\n",
    "        color=away_color, zorder=10, hatch=3*'//', alpha=0.3)\n",
    "for i in away_xs:\n",
    "    if i == away_goals:\n",
    "        ax2.bar(i, away_ys[i],\n",
    "        color=away_color, zorder=10, hatch=3*'//', alpha=1)\n",
    "\n",
    "#set up our base layer\n",
    "ax2.tick_params(axis='x', colors='w', labelsize=12)\n",
    "ax2.set_xticks(away_xs)\n",
    "ax2.tick_params(axis='y', colors='w', labelsize=12)\n",
    "\n",
    "# Set grid, ticks and frame\n",
    "#ax1.grid(axis='y', color='w', linestyle='--', zorder=1, alpha=0.5)\n",
    "ax2.tick_params(axis='both', which='both', left=False, bottom=False)\n",
    "ax2.set_frame_on(False)\n",
    "\n",
    "# Set labels and text\n",
    "ax2.set_xlabel('Mål',\n",
    "               color='w', fontweight='bold', size=14)\n",
    "ax2.set_ylabel('Sandsynlighed',\n",
    "               color='w', fontweight='bold', size=14)\n",
    "\n",
    "\n",
    "plt.show()"
   ]
  },
  {
   "cell_type": "markdown",
   "id": "e34c3b7c",
   "metadata": {},
   "source": [
    "Visualize scoreline probabilities"
   ]
  },
  {
   "cell_type": "code",
   "execution_count": 90,
   "id": "0b141630",
   "metadata": {},
   "outputs": [
    {
     "name": "stdout",
     "output_type": "stream",
     "text": [
      "[(2, 1), 0.08071790027155822]\n",
      "[(3, 1), 0.0704936329038275]\n",
      "[(2, 2), 0.06457432021724659]\n"
     ]
    }
   ],
   "source": [
    "for i in range(3):\n",
    "    print(scoreline_probs[i])"
   ]
  },
  {
   "cell_type": "markdown",
   "id": "9b9c5fc8",
   "metadata": {},
   "source": [
    "#### Calculate win, loss and draw probabilities"
   ]
  },
  {
   "cell_type": "code",
   "execution_count": 10,
   "id": "ed84ec2e",
   "metadata": {},
   "outputs": [],
   "source": [
    "home_prob, away_prob, draw_prob = pf.win_loss_draw_probs(scoreline_probs)\n",
    "\n",
    "# Concat into list\n",
    "home_away_draw_probs = pd.DataFrame({'outcomes': ['home', 'away', 'draw'], 'probs': [home_prob, away_prob, draw_prob]})"
   ]
  },
  {
   "cell_type": "markdown",
   "id": "022a7ae6",
   "metadata": {},
   "source": [
    "Visualize win, loss, draw probabilities"
   ]
  },
  {
   "cell_type": "code",
   "execution_count": 26,
   "id": "9fa7886e",
   "metadata": {},
   "outputs": [
    {
     "data": {
      "image/png": "[encoded data removed]",
      "text/plain": [
       "<Figure size 432x72 with 1 Axes>"
      ]
     },
     "metadata": {},
     "output_type": "display_data"
    }
   ],
   "source": [
    "lightblue = '#1d91dc'\n",
    "red = '#e80942'\n",
    "yellow = '#f7a119'\n",
    "green = '#16C79A'\n",
    "turq = '#00e8dc'\n",
    "text_color= '#CECECD'\n",
    "\n",
    "facecolor = '#181818'\n",
    "home_color = lightblue\n",
    "away_color = red\n",
    "\n",
    "fig, ax = plt.subplots(figsize = (6,1))\n",
    "fig.set_facecolor(facecolor)\n",
    "ax.set_facecolor(facecolor)\n",
    "\n",
    "#set up our base layer\n",
    "ax.tick_params(axis='x', colors=facecolor, labelsize=12)\n",
    "ax.tick_params(axis='y', colors=facecolor, labelsize=12)\n",
    "\n",
    "ax.spines[\"top\"].set_visible(False)\n",
    "ax.spines[\"right\"].set_visible(False)\n",
    "ax.spines[\"bottom\"].set_visible(False)\n",
    "ax.spines[\"left\"].set_visible(False)\n",
    "\n",
    "# Plot bars\n",
    "home = ax.barh(0.5, home_away_draw_probs['probs'][0], color=home_color)\n",
    "draw = ax.barh(0.5, home_away_draw_probs['probs'][1],\n",
    "               left=home_away_draw_probs['probs'][0], color=text_color)\n",
    "away = ax.barh(0.5, home_away_draw_probs['probs'][2],\n",
    "               left=home_away_draw_probs['probs'][0]+home_away_draw_probs['probs'][1], color=away_color)\n",
    "\n",
    "# Set texts\n",
    "# Home\n",
    "ax.text(x=home_prob/2, y=-0.12, s=f'{round(home_prob*100, 1)}%',\n",
    "        color='w', ha='center', size=16, fontweight='bold')\n",
    "ax.text(x=home_prob/2, y=-0.3, s=f'Sejr',\n",
    "        color='w', ha='center', size=12)\n",
    "# Draw\n",
    "ax.text(x=home_prob+draw_prob/2, y=-0.12, s=f'{round(draw_prob*100, 1)}%',\n",
    "        color='w', ha='center', size=16, fontweight='bold')\n",
    "ax.text(x=home_prob+draw_prob/2, y=-0.3, s=f'Uafgjort',\n",
    "        color='w', ha='center', size=12)\n",
    "# Away\n",
    "ax.text(x=home_prob+draw_prob+away_prob/2, y=-0.12, s=f'{round(away_prob*100, 1)}%',\n",
    "        color='w', ha='center', size=16, fontweight='bold')\n",
    "ax.text(x=home_prob+draw_prob+away_prob/2, y=-0.3, s=f'Sejr',\n",
    "        color='w', ha='center', size=12)\n",
    "\n",
    "#plt.savefig('output/win_probability_viz.png',\n",
    "#            dpi=600, bbox_inches='tight')\n",
    "\n",
    "plt.show()"
   ]
  },
  {
   "cell_type": "markdown",
   "id": "b70d21e2",
   "metadata": {},
   "source": [
    "#### Regular xG Race Chart"
   ]
  },
  {
   "cell_type": "code",
   "execution_count": 15,
   "id": "9f16b1e4",
   "metadata": {},
   "outputs": [
    {
     "data": {
      "image/png": "[encoded data removed]",
      "text/plain": [
       "<Figure size 1008x576 with 1 Axes>"
      ]
     },
     "metadata": {},
     "output_type": "display_data"
    }
   ],
   "source": [
    "mpl.rcParams['font.family'] = 'Alegreya Sans'\n",
    "\n",
    "lightblue = '#1d91dc'\n",
    "red = '#e80942'\n",
    "yellow = '#f7a119'\n",
    "green = '#16C79A'\n",
    "turq = '#00e8dc'\n",
    "text_color= '#CECECD'\n",
    "\n",
    "facecolor = '#181818'\n",
    "home_color = lightblue\n",
    "away_color = red\n",
    "\n",
    "fig, ax = plt.subplots(figsize = (14,8))\n",
    "fig.set_facecolor(facecolor)\n",
    "ax.set_facecolor(facecolor)\n",
    "\n",
    "#set up our base layer\n",
    "ax.tick_params(axis='x', colors='white', labelsize=12)\n",
    "ax.tick_params(axis='y', colors='white', labelsize=12)\n",
    "\n",
    "#set grid\n",
    "ax.grid(ls='dotted', lw=.5, color='#c7d5cc', axis='x', zorder=1)\n",
    "spines = ['top','bottom','left','right']\n",
    "for x in spines:\n",
    "    if x in spines:\n",
    "        ax.spines[x].set_visible(False)\n",
    "plt.xticks([0,15,30,45,60,75,90, 105])\n",
    "\n",
    "\n",
    "#plot the step graphs\n",
    "ax.plot(home_min_final, home_cum_xG_final, drawstyle='steps-post',\n",
    "        color=home_color, label=f'{home_team}', linewidth=4)\n",
    "ax.plot(away_min_final, away_cum_xG_final, drawstyle='steps-post',\n",
    "        color=away_color, label=f'{away_team}', linewidth=4)\n",
    "\n",
    "#fill below line plot\n",
    "#minutes = list(sorted(np.concatenate([home_min, away_min])))\n",
    "home_where = (np.array(home_cum_xG_final) > np.array(away_cum_xG_final))\n",
    "ax.fill_between(home_min_final, home_cum_xG_final, away_cum_xG_final, step='post', \n",
    "                where=home_where, #interpolate=True,\n",
    "                color=home_color, alpha=0.3, hatch=3*'\\\\')\n",
    "away_where = (np.array(home_cum_xG_final) < np.array(away_cum_xG_final))\n",
    "ax.fill_between(home_min_final, home_cum_xG_final, away_cum_xG_final, step='post', \n",
    "                where=away_where, #interpolate=True,\n",
    "                color=away_color, alpha=0.3, hatch=3*'\\\\')\n",
    "\n",
    "\n",
    "#plot home goals\n",
    "for i in range(len(df_home_final)):\n",
    "    if df_home_final['result'][i] == 'Goal':\n",
    "        plt.scatter(df_home_final['minute'][i], df_home_final['cum_xG_x'][i], \n",
    "                    s=300, zorder=10, facecolor=home_color, edgecolor='white', label='Mål')\n",
    "for i in range(len(df_away_final)):\n",
    "    if df_away_final['result'][i] == 'OwnGoal':\n",
    "        plt.scatter(df_away_final['minute'][i], df_home_final1['cum_xG_x'][i], \n",
    "                    s=300, zorder=10, facecolor=home_color, edgecolor='white', label='Mål')\n",
    "\n",
    "#plot away goals\n",
    "for i in range(len(df_away_final)):\n",
    "    if df_away_final['result'][i] == 'Goal':\n",
    "        plt.scatter(df_away_final['minute'][i], df_away_final['cum_xG_x'][i], \n",
    "                    s=300, zorder=10, facecolor=away_color, edgecolor='white', label='Mål')\n",
    "for i in range(len(df_home_final)):\n",
    "    if df_home_final['result'][i] == 'OwnGoal':\n",
    "        plt.scatter(df_home_final['minute'][i], df_away_final1['cum_xG_x'][i], \n",
    "                    s=300, zorder=10, facecolor=away_color, edgecolor='white', label='Mål')\n",
    "\n",
    "#set title and text\n",
    "home_goals = len(df_home[df_home['result'] == 'Goal'])\n",
    "home_goals += len(df_away[df_away['result'] == 'OwnGoal'])\n",
    "away_goals = len(df_away[(df_away['result'] == 'Goal')])\n",
    "away_goals += len(df_home[df_home['result'] == 'OwnGoal'])\n",
    "\n",
    "\n",
    "#fig.suptitle(f'{home_team}  {home_goals}:{away_goals}  {away_team}', \n",
    "#            fontsize=28, color='white')\n",
    "\n",
    "fig_text(x=0.5, y=0.95, s = f'<{home_team}>  <{home_goals}>:<{away_goals}>  <{away_team}>', \n",
    "         fontsize=42, color='white', ha='center', highlight_colors=[home_color, 'w', 'w', away_color],\n",
    "         highlight_weights='bold')\n",
    "fig_text(x=0.5, y=0.9, s = f'Premier League 2020/2021', \n",
    "         fontsize=20, color='white', ha='center', highlight_colors=['w'], highlight_weights='bold')\n",
    "\n",
    "\n",
    "#add home team total xG\n",
    "ax.text(home_min_final[-1], home_cum_xG_final[-1]+0.1, s='{:.2f}'.format(home_total_xG),\n",
    "        color=home_color, fontsize=24, fontweight='bold', ha='right')\n",
    "ax.text(away_min_final[-1], away_cum_xG_final[-1]-0.25, s='{:.2f}'.format(away_total_xG),\n",
    "        color=away_color, fontsize=24, fontweight='bold', ha='right')\n",
    "\n",
    "ax.text(90, -0.3, s='Data | understat.com', ha='right',\n",
    "        fontsize=10, fontstyle='normal', color='white')\n",
    "ax.text(90, -0.37, s='twitter.com/C_Roensholt', fontsize=10, fontstyle='normal', color='white', ha='right')\n",
    "\n",
    "\n",
    "\n",
    "ax.set_xlabel('Minutter', color='white', fontsize=16)\n",
    "ax.set_ylabel('Expected Goals (xG)', color='white', fontsize=16)\n",
    "\n",
    "#plt.savefig(f'output/{home_team}_vs_{away_team}_xG_Infographic_{comp}.png', dpi=600, \n",
    "#            bbox_inches='tight', facecolor=facecolor, edgecolor='none')\n",
    "\n",
    "plt.show()"
   ]
  },
  {
   "cell_type": "markdown",
   "id": "76420fbb",
   "metadata": {},
   "source": [
    "#### The improved match xG Infographic"
   ]
  },
  {
   "cell_type": "code",
   "execution_count": 105,
   "id": "a4c48c03",
   "metadata": {},
   "outputs": [
    {
     "data": {
      "image/png": "[encoded data removed]",
      "text/plain": [
       "<Figure size 864x432 with 4 Axes>"
      ]
     },
     "metadata": {},
     "output_type": "display_data"
    }
   ],
   "source": [
    "lightblue = '#1d91dc'\n",
    "red = '#e80942'\n",
    "yellow = '#f7a119'\n",
    "green = '#16C79A'\n",
    "turq = '#00e8dc'\n",
    "text_color= '#CECECD'\n",
    "\n",
    "facecolor = '#181818'\n",
    "home_color = lightblue\n",
    "away_color = red\n",
    "\n",
    "layout = [[1,1,1],\n",
    "          [2,2,3],\n",
    "          [2,2,4]]\n",
    "\n",
    "fig, axd = plt.subplot_mosaic(layout,\n",
    "                             constrained_layout=True,figsize=(12,6),gridspec_kw={'height_ratios':[0.1, 0.4, 0.4]})\n",
    "ax1, ax2, ax3, ax4 = axd.values()\n",
    "fig.set_facecolor(facecolor)\n",
    "\n",
    "\n",
    "ax1.set_facecolor(facecolor)\n",
    "\n",
    "\n",
    "ax2.set_facecolor(facecolor)\n",
    "\n",
    "\n",
    "ax3.set_facecolor(facecolor)\n",
    "\n",
    "\n",
    "ax4.set_facecolor(facecolor)"
   ]
  },
  {
   "cell_type": "code",
   "execution_count": null,
   "id": "2a0f743a",
   "metadata": {},
   "outputs": [],
   "source": []
  }
 ],
 "metadata": {
  "kernelspec": {
   "display_name": "Python 3",
   "language": "python",
   "name": "python3"
  },
  "language_info": {
   "codemirror_mode": {
    "name": "ipython",
    "version": 3
   },
   "file_extension": ".py",
   "mimetype": "text/x-python",
   "name": "python",
   "nbconvert_exporter": "python",
   "pygments_lexer": "ipython3",
   "version": "3.8.8"
  }
 },
 "nbformat": 4,
 "nbformat_minor": 5
}
