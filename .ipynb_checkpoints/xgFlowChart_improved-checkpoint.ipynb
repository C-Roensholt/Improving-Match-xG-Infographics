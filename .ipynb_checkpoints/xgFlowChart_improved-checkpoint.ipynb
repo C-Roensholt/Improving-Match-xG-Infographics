{
 "cells": [
  {
   "cell_type": "markdown",
   "metadata": {},
   "source": [
    "## xG Flow Chart"
   ]
  },
  {
   "cell_type": "code",
   "execution_count": 1,
   "metadata": {},
   "outputs": [],
   "source": [
    "#import libraries\n",
    "import numpy as np\n",
    "import pandas as pd\n",
    "import matplotlib as mpl\n",
    "import matplotlib.pyplot as plt\n",
    "from matplotlib.offsetbox import OffsetImage, AnnotationBbox\n",
    "from PIL import Image\n",
    "from highlight_text import ax_text, fig_text"
   ]
  },
  {
   "cell_type": "markdown",
   "metadata": {},
   "source": [
    "### Load data"
   ]
  },
  {
   "cell_type": "code",
   "execution_count": 2,
   "metadata": {},
   "outputs": [],
   "source": [
    "#load data\n",
    "comp = 'gw32'\n",
    "df = pd.read_csv(f'../../data/understat/liverpool/{comp}.csv')"
   ]
  },
  {
   "cell_type": "markdown",
   "metadata": {},
   "source": [
    "### Data preperation"
   ]
  },
  {
   "cell_type": "code",
   "execution_count": 5,
   "metadata": {},
   "outputs": [],
   "source": [
    "#find team names from dataframe (will only work as long as both teams took a shot)\n",
    "home_team = df['team'].iloc[0]\n",
    "away_team = df['team'].iloc[-1]\n",
    "\n",
    "#create dataframe for each team\n",
    "df_home = df[df['team'] == home_team].reset_index(drop=True)\n",
    "df_away = df[df['team'] == away_team].reset_index(drop=True)\n",
    "\n",
    "#create cumulative xG column\n",
    "df_home['cum_xG'] = df_home['xG'].cumsum()\n",
    "df_away['cum_xG'] = df_away['xG'].cumsum()"
   ]
  },
  {
   "cell_type": "code",
   "execution_count": 6,
   "metadata": {},
   "outputs": [],
   "source": [
    "home_min = list(df_home['minute'])\n",
    "away_min = list(df_away['minute'])\n",
    "\n",
    "home_cum_xG = list(df_home['cum_xG'])\n",
    "away_cum_xG = list(df_away['cum_xG'])"
   ]
  },
  {
   "cell_type": "markdown",
   "metadata": {},
   "source": [
    "#### Create datarame with minutes"
   ]
  },
  {
   "cell_type": "code",
   "execution_count": 7,
   "metadata": {},
   "outputs": [],
   "source": [
    "df_minutes = pd.DataFrame({'minute': range(0, df['minute'].max()+1, 1)})"
   ]
  },
  {
   "cell_type": "code",
   "execution_count": 8,
   "metadata": {},
   "outputs": [],
   "source": [
    "#merge with dataframes\n",
    "df_home_final = df_minutes.merge(df_home,\n",
    "                                 on='minute', how='left')[['minute', 'cum_xG']]\n",
    "df_home_final.fillna(method='ffill', inplace=True)\n",
    "df_home_final.fillna(0, inplace=True)\n",
    "df_home_final = df_home_final.merge(df_home, on='minute', how='left')[['minute', 'cum_xG_x', 'result']]\n",
    "\n",
    "df_away_final = df_minutes.merge(df_away,\n",
    "                                 on='minute', how='left')[['minute', 'cum_xG']]\n",
    "df_away_final.fillna(method='ffill', inplace=True)\n",
    "df_away_final.fillna(0, inplace=True)\n",
    "df_away_final = df_away_final.merge(df_away, on='minute', how='left')[['minute', 'cum_xG_x', 'result']]"
   ]
  },
  {
   "cell_type": "code",
   "execution_count": 9,
   "metadata": {},
   "outputs": [],
   "source": [
    "#find total xG\n",
    "home_total_xG = round(home_cum_xG[-1], 2)\n",
    "away_total_xG = round(away_cum_xG[-1], 2)"
   ]
  },
  {
   "cell_type": "code",
   "execution_count": 10,
   "metadata": {},
   "outputs": [],
   "source": [
    "#remove duplicate rows with NaN values (i.e. minutes from df_mins where a shot has happend)\n",
    "#df_home_final = df_home_final[~df_home_final['minute'].duplicated(keep=False) | df_home_final[['x']].notnull().any(axis=1)]\n",
    "#df_away_final = df_away_final[~df_away_final['minute'].duplicated(keep=False) | df_away_final[['x']].notnull().any(axis=1)]\n",
    "\n",
    "#fill first row with 0\n",
    "#df_home_final.iloc[0, :] = df_home_final.iloc[0, :].replace(np.nan, 0)\n",
    "#df_away_final.iloc[0, :] = df_away_final.iloc[0, :].replace(np.nan, 0)\n",
    "\n",
    "#group by minutes to make dataframes the same length\n",
    "df_home_final1 = df_home_final.groupby(['minute'])[['cum_xG_x']].max().reset_index()\n",
    "df_away_final1 = df_away_final.groupby(['minute'])[['cum_xG_x']].max().reset_index()\n",
    "\n",
    "df_home_final1 = df_home_final1.fillna(method='ffill')\n",
    "df_away_final1 = df_away_final1.fillna(method='ffill')"
   ]
  },
  {
   "cell_type": "code",
   "execution_count": 11,
   "metadata": {},
   "outputs": [],
   "source": [
    "#reset index for df_home_final (for plotting own goals)\n",
    "#df_home_final = df_home_final.reset_index(drop=False)\n",
    "#df_away_final = df_away_final.reset_index(drop=False)"
   ]
  },
  {
   "cell_type": "code",
   "execution_count": 12,
   "metadata": {},
   "outputs": [],
   "source": [
    "home_min_final = np.array(df_home_final1['minute'])\n",
    "away_min_final = np.array(df_away_final1['minute'])\n",
    "\n",
    "home_cum_xG_final = np.array(df_home_final1['cum_xG_x'])\n",
    "away_cum_xG_final = np.array(df_away_final1['cum_xG_x'])"
   ]
  },
  {
   "cell_type": "code",
   "execution_count": 13,
   "metadata": {},
   "outputs": [],
   "source": [
    "home_min_final = list(home_min_final)\n",
    "away_min_final = list(away_min_final)\n",
    "\n",
    "home_cum_xG_final = list(home_cum_xG_final)\n",
    "away_cum_xG_final = list(away_cum_xG_final)"
   ]
  },
  {
   "cell_type": "markdown",
   "metadata": {},
   "source": [
    "#### Calculate probabilities for goals"
   ]
  },
  {
   "cell_type": "code",
   "execution_count": 14,
   "metadata": {},
   "outputs": [],
   "source": [
    "# Create function for poisson distribution\n",
    "def poisson_distribution(k, lambd):\n",
    "    return (lambd ** k * np.exp(-lambd)) / np.math.factorial(k)"
   ]
  },
  {
   "cell_type": "code",
   "execution_count": 15,
   "metadata": {},
   "outputs": [],
   "source": [
    "# Calculate probability for goals scored given expected goals\n",
    "\n",
    "#define maximum number of goals\n",
    "events = 10\n",
    "\n",
    "#loop through number of goals\n",
    "home_goals_dist = []\n",
    "away_goals_dist = []\n",
    "for goals_scored in range(events):\n",
    "    prob = poisson_distribution(k=goals_scored, lambd=home_total_xG)\n",
    "    home_goals_dist.append([goals_scored, prob])\n",
    "\n",
    "for goals_scored in range(events):\n",
    "    prob = poisson_distribution(k=goals_scored, lambd=away_total_xG)\n",
    "    away_goals_dist.append([goals_scored, prob])\n",
    "    \n",
    "#concatenate probs\n",
    "x, y = zip(home_goals_dist[1], home_goals_dist[1])"
   ]
  },
  {
   "cell_type": "code",
   "execution_count": 14,
   "metadata": {},
   "outputs": [],
   "source": [
    "# Calculate probability of scores\n",
    "score_probs = [[(x[0], y[0]), x[1]*y[1]] for x in home_goals_dist for y in away_goals_dist]\n",
    "score_probs.sort(key=lambda x: x[1], reverse=True)"
   ]
  },
  {
   "cell_type": "code",
   "execution_count": 15,
   "metadata": {},
   "outputs": [],
   "source": [
    "# Create xs and ys for bar plots \n",
    "home_xs, home_ys = zip(*home_goals_dist)\n",
    "away_xs, away_ys = zip(*away_goals_dist)"
   ]
  },
  {
   "cell_type": "markdown",
   "metadata": {},
   "source": [
    "#### Calculate win probabilities"
   ]
  },
  {
   "cell_type": "code",
   "execution_count": 16,
   "metadata": {},
   "outputs": [],
   "source": [
    "draw_prob_list = []\n",
    "for score, prob in score_probs:\n",
    "    if score[0] == score[1]:\n",
    "        draw_prob_list.append(prob)\n",
    "draw_prob = sum(draw_prob_list)"
   ]
  },
  {
   "cell_type": "code",
   "execution_count": 17,
   "metadata": {},
   "outputs": [
    {
     "data": {
      "text/plain": [
       "0.18033650929096134"
      ]
     },
     "execution_count": 17,
     "metadata": {},
     "output_type": "execute_result"
    }
   ],
   "source": [
    "draw_prob"
   ]
  },
  {
   "cell_type": "code",
   "execution_count": 18,
   "metadata": {},
   "outputs": [],
   "source": [
    "home_win_prob_list = []\n",
    "for score, prob in score_probs:\n",
    "    if score[0] > score[1]:\n",
    "        home_win_prob_list.append(prob)\n",
    "home_win_prob = sum(home_win_prob_list)"
   ]
  },
  {
   "cell_type": "code",
   "execution_count": 19,
   "metadata": {},
   "outputs": [
    {
     "data": {
      "text/plain": [
       "0.5953279596534101"
      ]
     },
     "execution_count": 19,
     "metadata": {},
     "output_type": "execute_result"
    }
   ],
   "source": [
    "home_win_prob"
   ]
  },
  {
   "cell_type": "code",
   "execution_count": 20,
   "metadata": {},
   "outputs": [],
   "source": [
    "away_win_prob_list = []\n",
    "for score, prob in score_probs:\n",
    "    if score[0] < score[1]:\n",
    "        away_win_prob_list.append(prob)\n",
    "away_win_prob = sum(away_win_prob_list)"
   ]
  },
  {
   "cell_type": "code",
   "execution_count": 21,
   "metadata": {},
   "outputs": [
    {
     "data": {
      "text/plain": [
       "0.9995944281742968"
      ]
     },
     "execution_count": 21,
     "metadata": {},
     "output_type": "execute_result"
    }
   ],
   "source": [
    "away_win_prob + home_win_prob + draw_prob"
   ]
  },
  {
   "cell_type": "markdown",
   "metadata": {},
   "source": [
    "#### Visualization"
   ]
  },
  {
   "cell_type": "code",
   "execution_count": 30,
   "metadata": {},
   "outputs": [
    {
     "data": {
      "image/png": "[encoded data removed]",
      "text/plain": [
       "<Figure size 1008x576 with 1 Axes>"
      ]
     },
     "metadata": {},
     "output_type": "display_data"
    }
   ],
   "source": [
    "mpl.rcParams['font.family'] = 'Alegreya Sans'\n",
    "\n",
    "lightblue = '#1d91dc'\n",
    "red = '#e80942'\n",
    "yellow = '#f7a119'\n",
    "green = '#16C79A'\n",
    "turq = '#00e8dc'\n",
    "text_color= '#CECECD'\n",
    "\n",
    "facecolor = '#181818'\n",
    "home_color = lightblue\n",
    "away_color = red\n",
    "\n",
    "fig, ax = plt.subplots(figsize = (14,8))\n",
    "fig.set_facecolor(facecolor)\n",
    "ax.set_facecolor(facecolor)\n",
    "\n",
    "#set up our base layer\n",
    "ax.tick_params(axis='x', colors='white', labelsize=12)\n",
    "ax.tick_params(axis='y', colors='white', labelsize=12)\n",
    "\n",
    "#set grid\n",
    "ax.grid(ls='dotted', lw=.5, color='#c7d5cc', axis='x', zorder=1)\n",
    "spines = ['top','bottom','left','right']\n",
    "for x in spines:\n",
    "    if x in spines:\n",
    "        ax.spines[x].set_visible(False)\n",
    "plt.xticks([0,15,30,45,60,75,90, 105])\n",
    "\n",
    "\n",
    "#plot the step graphs\n",
    "ax.plot(home_min_final, home_cum_xG_final, drawstyle='steps-post',\n",
    "        color=home_color, label=f'{home_team}', linewidth=4)\n",
    "ax.plot(away_min_final, away_cum_xG_final, drawstyle='steps-post',\n",
    "        color=away_color, label=f'{away_team}', linewidth=4)\n",
    "\n",
    "#fill below line plot\n",
    "#minutes = list(sorted(np.concatenate([home_min, away_min])))\n",
    "home_where = (np.array(home_cum_xG_final) > np.array(away_cum_xG_final))\n",
    "ax.fill_between(home_min_final, home_cum_xG_final, away_cum_xG_final, step='post', \n",
    "                where=home_where, #interpolate=True,\n",
    "                color=home_color, alpha=0.3, hatch=3*'\\\\')\n",
    "away_where = (np.array(home_cum_xG_final) < np.array(away_cum_xG_final))\n",
    "ax.fill_between(home_min_final, home_cum_xG_final, away_cum_xG_final, step='post', \n",
    "                where=away_where, #interpolate=True,\n",
    "                color=away_color, alpha=0.3, hatch=3*'\\\\')\n",
    "\n",
    "\n",
    "#plot home goals\n",
    "for i in range(len(df_home_final)):\n",
    "    if df_home_final['result'][i] == 'Goal':\n",
    "        plt.scatter(df_home_final['minute'][i], df_home_final['cum_xG_x'][i], \n",
    "                    s=300, zorder=10, facecolor=home_color, edgecolor='white', label='Mål')\n",
    "for i in range(len(df_away_final)):\n",
    "    if df_away_final['result'][i] == 'OwnGoal':\n",
    "        plt.scatter(df_away_final['minute'][i], df_home_final1['cum_xG_x'][i], \n",
    "                    s=300, zorder=10, facecolor=home_color, edgecolor='white', label='Mål')\n",
    "\n",
    "#plot away goals\n",
    "for i in range(len(df_away_final)):\n",
    "    if df_away_final['result'][i] == 'Goal':\n",
    "        plt.scatter(df_away_final['minute'][i], df_away_final['cum_xG_x'][i], \n",
    "                    s=300, zorder=10, facecolor=away_color, edgecolor='white', label='Mål')\n",
    "for i in range(len(df_home_final)):\n",
    "    if df_home_final['result'][i] == 'OwnGoal':\n",
    "        plt.scatter(df_home_final['minute'][i], df_away_final1['cum_xG_x'][i], \n",
    "                    s=300, zorder=10, facecolor=away_color, edgecolor='white', label='Mål')\n",
    "\n",
    "#set title and text\n",
    "home_goals = len(df_home[df_home['result'] == 'Goal'])\n",
    "home_goals += len(df_away[df_away['result'] == 'OwnGoal'])\n",
    "away_goals = len(df_away[(df_away['result'] == 'Goal')])\n",
    "away_goals += len(df_home[df_home['result'] == 'OwnGoal'])\n",
    "\n",
    "\n",
    "#fig.suptitle(f'{home_team}  {home_goals}:{away_goals}  {away_team}', \n",
    "#            fontsize=28, color='white')\n",
    "\n",
    "fig_text(x=0.5, y=0.95, s = f'<{home_team}>  <{home_goals}>:<{away_goals}>  <{away_team}>', \n",
    "         fontsize=42, color='white', ha='center', highlight_colors=[home_color, 'w', 'w', away_color],\n",
    "         highlight_weights='bold')\n",
    "fig_text(x=0.5, y=0.9, s = f'Premier League 2020/2021', \n",
    "         fontsize=20, color='white', ha='center', highlight_colors=['w'], highlight_weights='bold')\n",
    "\n",
    "\n",
    "#add home team total xG\n",
    "ax.text(home_min_final[-1], home_cum_xG_final[-1]+0.1, s='{:.2f}'.format(home_total_xG),\n",
    "        color=home_color, fontsize=24, fontweight='bold', ha='right')\n",
    "ax.text(away_min_final[-1], away_cum_xG_final[-1]-0.25, s='{:.2f}'.format(away_total_xG),\n",
    "        color=away_color, fontsize=24, fontweight='bold', ha='right')\n",
    "\n",
    "ax.text(82, -0.3, s='Data | understat.com', ha='left',\n",
    "        fontsize=10, fontstyle='normal', color='white')\n",
    "#ax.text(73, -0.37, s='twitter.com/C_Roensholt', fontsize=12, fontstyle='italic', color='white')\n",
    "\n",
    "#insert redmen family picture\n",
    "#setup picture path\n",
    "#img_path = \"C:/Users/rcr1/Desktop/redmenFamily_50x50.jpg\"\n",
    "#img = plt.imread(img_path)\n",
    "#plt.figimage(img, 750, 485, zorder=1)\n",
    "\n",
    "#plt.legend(facecolor=facecolor, fontsize=14, frameon=False, labelcolor='white')\n",
    "\n",
    "ax.set_xlabel('Minutter', color='white', fontsize=16)\n",
    "ax.set_ylabel('Expected Goals (xG)', color='white', fontsize=16)\n",
    "\n",
    "#plt.savefig(f'C:/Users/rcr1/Google Drive/football/plots/games/liverpool/2021/{comp}/xG_flow_chart_{comp}.png', dpi=600, \n",
    "#            bbox_inches='tight', facecolor=facecolor, edgecolor='none')\n",
    "\n",
    "plt.show()"
   ]
  }
 ],
 "metadata": {
  "kernelspec": {
   "display_name": "Python 3",
   "language": "python",
   "name": "python3"
  },
  "language_info": {
   "codemirror_mode": {
    "name": "ipython",
    "version": 3
   },
   "file_extension": ".py",
   "mimetype": "text/x-python",
   "name": "python",
   "nbconvert_exporter": "python",
   "pygments_lexer": "ipython3",
   "version": "3.8.8"
  }
 },
 "nbformat": 4,
 "nbformat_minor": 4
}
